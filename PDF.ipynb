{
 "cells": [
  {
   "cell_type": "code",
   "execution_count": 1,
   "id": "53735358-14c4-4928-9009-e27fc6de3748",
   "metadata": {},
   "outputs": [
    {
     "ename": "error",
     "evalue": "OpenCV(4.7.0) D:\\a\\opencv-python\\opencv-python\\opencv\\modules\\imgproc\\src\\color.cpp:182: error: (-215:Assertion failed) !_src.empty() in function 'cv::cvtColor'\n",
     "output_type": "error",
     "traceback": [
      "\u001b[1;31m---------------------------------------------------------------------------\u001b[0m",
      "\u001b[1;31merror\u001b[0m                                     Traceback (most recent call last)",
      "\u001b[1;32m~\\AppData\\Local\\Temp\\ipykernel_20860\\228398130.py\u001b[0m in \u001b[0;36m<module>\u001b[1;34m\u001b[0m\n\u001b[0;32m     20\u001b[0m     \u001b[1;31m#turn my frames onto gray for ease\u001b[0m\u001b[1;33m\u001b[0m\u001b[1;33m\u001b[0m\u001b[0m\n\u001b[0;32m     21\u001b[0m \u001b[1;33m\u001b[0m\u001b[0m\n\u001b[1;32m---> 22\u001b[1;33m     \u001b[0mgray\u001b[0m\u001b[1;33m=\u001b[0m\u001b[0mcv2\u001b[0m\u001b[1;33m.\u001b[0m\u001b[0mcvtColor\u001b[0m\u001b[1;33m(\u001b[0m\u001b[0mdiff\u001b[0m\u001b[1;33m,\u001b[0m\u001b[0mcv2\u001b[0m\u001b[1;33m.\u001b[0m\u001b[0mCOLOR_BGR2GRAY\u001b[0m\u001b[1;33m)\u001b[0m\u001b[1;33m\u001b[0m\u001b[1;33m\u001b[0m\u001b[0m\n\u001b[0m\u001b[0;32m     23\u001b[0m \u001b[1;33m\u001b[0m\u001b[0m\n\u001b[0;32m     24\u001b[0m     \u001b[1;31m#apply any filter that elemenate any noise in my frame and thes best for this is Gaussian_filter\u001b[0m\u001b[1;33m\u001b[0m\u001b[1;33m\u001b[0m\u001b[0m\n",
      "\u001b[1;31merror\u001b[0m: OpenCV(4.7.0) D:\\a\\opencv-python\\opencv-python\\opencv\\modules\\imgproc\\src\\color.cpp:182: error: (-215:Assertion failed) !_src.empty() in function 'cv::cvtColor'\n"
     ]
    }
   ],
   "source": [
    "import cv2\n",
    "import numpy as np\n",
    "#reading video\n",
    "cap=cv2.VideoCapture(r\"C:\\Users\\zbook 17 g3\\Desktop\\WhatsApp Video 2023-06-24 at 17.46.54.mp4\")\n",
    "\n",
    "fourcc=cv2.VideoWriter_fourcc('X','V','I','D')\n",
    "out =cv2.VideoWriter(\"my_output\",fourcc,5,(1200,800))\n",
    "\n",
    "#create tow different frames for my proccess\n",
    "_,frame1=cap.read()\n",
    "_,frame2=cap.read()\n",
    "\n",
    "\n",
    "while(1):\n",
    "    \n",
    "    #calculate the different pixels between tow frames \n",
    "\n",
    "    diff=cv2.absdiff(frame1,frame2)\n",
    "    \n",
    "    #turn my frames onto gray for ease \n",
    "    \n",
    "    gray=cv2.cvtColor(diff,cv2.COLOR_BGR2GRAY)\n",
    "    \n",
    "    #apply any filter that elemenate any noise in my frame and thes best for this is Gaussian_filter\n",
    "    \n",
    "    filtered_frame=cv2.GaussianBlur(gray,(3,3),0)\n",
    "    \n",
    "    \n",
    "    #applaying  binary threshold in my frames \n",
    "    _,threshold=cv2.threshold(filtered_frame,25,255,cv2.THRESH_BINARY)\n",
    "     #dialting the threshold allow the find_contours func to work better\n",
    "    \n",
    "    dilated = cv2.dilate(threshold, None, iterations=3)\n",
    "    \n",
    "    \n",
    "    contours, _ = cv2.findContours(dilated, cv2.RETR_TREE, cv2.CHAIN_APPROX_SIMPLE)  \n",
    "    for contour in contours: \n",
    "        \n",
    "\n",
    "        (a, b, c, d) =  cv2.boundingRect(contour)\n",
    "        #to avoide the non-nedded pixels(noise)\n",
    "        if cv2.contourArea(contour) < 1000:              \n",
    "\n",
    "            continue \n",
    "\n",
    "\n",
    "\n",
    "        cv2.rectangle(frame1, (a, b), (a+c, b+d), (0, 0, 255), 2)              \n",
    "\n",
    "       \n",
    "    \n",
    "    \n",
    "\n",
    "    out.write(frame1)\n",
    "\n",
    "    cv2.imshow(\"motion detector\", frame1)\n",
    "    #to repat the entire loop till the video ends\n",
    "\n",
    "    frame1 = frame2\n",
    "\n",
    "    ret, frame2 = cap.read()#read\n",
    "\n",
    "\n",
    "    if cv2.waitKey(40) == 27:\n",
    "\n",
    "        break \n",
    "    \n",
    "cv2.destroyAllWindows()\n",
    "\n",
    "cap.release()\n",
    "\n",
    "out.release()  \n"
   ]
  },
  {
   "cell_type": "code",
   "execution_count": null,
   "id": "6b25816f-c771-49a9-903c-0af2d40a0558",
   "metadata": {},
   "outputs": [],
   "source": []
  }
 ],
 "metadata": {
  "kernelspec": {
   "display_name": "Python 3 (ipykernel)",
   "language": "python",
   "name": "python3"
  },
  "language_info": {
   "codemirror_mode": {
    "name": "ipython",
    "version": 3
   },
   "file_extension": ".py",
   "mimetype": "text/x-python",
   "name": "python",
   "nbconvert_exporter": "python",
   "pygments_lexer": "ipython3",
   "version": "3.9.13"
  }
 },
 "nbformat": 4,
 "nbformat_minor": 5
}
